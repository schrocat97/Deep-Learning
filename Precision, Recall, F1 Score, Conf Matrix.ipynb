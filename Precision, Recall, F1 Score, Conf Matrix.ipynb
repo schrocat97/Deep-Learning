{
 "cells": [
  {
   "cell_type": "code",
   "execution_count": 1,
   "id": "d7b9ab66",
   "metadata": {},
   "outputs": [],
   "source": [
    "# Accuracy -  From the Confusion Matrix, the No. of True positives and True Negetives gives us the Accuracy,i.e., how many were\n",
    "#             rightly classified by the model"
   ]
  },
  {
   "cell_type": "code",
   "execution_count": 3,
   "id": "f618501f",
   "metadata": {},
   "outputs": [],
   "source": [
    "# Precision - Out of all dog predictions how many did the model got right (TP /(TP + FP)) TP - True Positive , FP - False Positive"
   ]
  },
  {
   "cell_type": "code",
   "execution_count": 4,
   "id": "6835f4e9",
   "metadata": {},
   "outputs": [],
   "source": [
    "# Recall - Out of all true dog predictions how many did the model got it right (TP/(TP + FN))"
   ]
  },
  {
   "cell_type": "code",
   "execution_count": 5,
   "id": "f6891ad0",
   "metadata": {},
   "outputs": [],
   "source": [
    "# F1 Score - F1 Score is tells you how healthy your model is, Overall performance of your model.\n",
    "#            It is given as 2*((Precision*Recall)/(Precision + Recall))\n",
    "# Higher the f1-score better your model is."
   ]
  },
  {
   "cell_type": "code",
   "execution_count": 7,
   "id": "39a50b47",
   "metadata": {},
   "outputs": [],
   "source": [
    "#Now lets get some codes\n",
    "import matplotlib.pyplot as plt\n",
    "import pandas as pd\n",
    "from sklearn.metrics import confusion_matrix, classification_report"
   ]
  },
  {
   "cell_type": "code",
   "execution_count": 8,
   "id": "0d75a009",
   "metadata": {},
   "outputs": [],
   "source": [
    "truth = ['Dog', 'N Dog', 'Dog', 'Dog', 'Dog', 'N Dog', 'N Dog', 'Dog', 'Dog', 'N Dog']\n",
    "prediction = ['Dog', 'Dog', 'Dog', 'N Dog', 'Dog', 'N Dog', 'Dog', 'N Dog', 'Dog', 'Dog']"
   ]
  },
  {
   "cell_type": "code",
   "execution_count": 11,
   "id": "a2f29a4a",
   "metadata": {},
   "outputs": [
    {
     "data": {
      "text/plain": [
       "array([[4, 2],\n",
       "       [3, 1]], dtype=int64)"
      ]
     },
     "execution_count": 11,
     "metadata": {},
     "output_type": "execute_result"
    }
   ],
   "source": [
    "cm = confusion_matrix(truth, prediction)\n",
    "cm"
   ]
  },
  {
   "cell_type": "code",
   "execution_count": 15,
   "id": "d0fdc9ed",
   "metadata": {},
   "outputs": [
    {
     "name": "stdout",
     "output_type": "stream",
     "text": [
      "              precision    recall  f1-score   support\n",
      "\n",
      "         Dog       0.57      0.67      0.62         6\n",
      "       N Dog       0.33      0.25      0.29         4\n",
      "\n",
      "    accuracy                           0.50        10\n",
      "   macro avg       0.45      0.46      0.45        10\n",
      "weighted avg       0.48      0.50      0.48        10\n",
      "\n"
     ]
    }
   ],
   "source": [
    "# Classification Report - cr\n",
    "print(classification_report(truth,prediction)) \n",
    "# So Here we get all the parameters like precision, recall, f1 score, support"
   ]
  },
  {
   "cell_type": "code",
   "execution_count": 16,
   "id": "6547c5fe",
   "metadata": {},
   "outputs": [],
   "source": [
    "# from the above values we can calculate the different values of the two different classes, like Dog and N Dog from the formulae mentioned above"
   ]
  }
 ],
 "metadata": {
  "kernelspec": {
   "display_name": "Python 3 (ipykernel)",
   "language": "python",
   "name": "python3"
  },
  "language_info": {
   "codemirror_mode": {
    "name": "ipython",
    "version": 3
   },
   "file_extension": ".py",
   "mimetype": "text/x-python",
   "name": "python",
   "nbconvert_exporter": "python",
   "pygments_lexer": "ipython3",
   "version": "3.9.13"
  }
 },
 "nbformat": 4,
 "nbformat_minor": 5
}
